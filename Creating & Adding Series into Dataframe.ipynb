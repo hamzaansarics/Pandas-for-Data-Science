{
 "cells": [
  {
   "cell_type": "code",
   "execution_count": 1,
   "metadata": {},
   "outputs": [],
   "source": [
    "import pandas as pd\n",
    "import numpy as np"
   ]
  },
  {
   "cell_type": "code",
   "execution_count": 2,
   "metadata": {},
   "outputs": [],
   "source": [
    "dataset=pd.read_table('I:\\Datasets\\CSV\\Chiporders.csv')"
   ]
  },
  {
   "cell_type": "code",
   "execution_count": 3,
   "metadata": {},
   "outputs": [],
   "source": [
    "new_sr=pd.Series(list(np.linspace(1,4622,4622)*np.random.randint(255)),index=list(np.linspace(1,4622,4622)),name='Khan')"
   ]
  },
  {
   "cell_type": "code",
   "execution_count": 4,
   "metadata": {},
   "outputs": [],
   "source": [
    "dataset=pd.concat([dataset,new_sr],axis=1)"
   ]
  },
  {
   "cell_type": "code",
   "execution_count": 5,
   "metadata": {},
   "outputs": [
    {
     "data": {
      "text/plain": [
       "0.0            NaN\n",
       "1.0           73.0\n",
       "2.0          146.0\n",
       "3.0          219.0\n",
       "4.0          292.0\n",
       "            ...   \n",
       "4618.0    337114.0\n",
       "4619.0    337187.0\n",
       "4620.0    337260.0\n",
       "4621.0    337333.0\n",
       "4622.0    337406.0\n",
       "Name: Khan, Length: 4623, dtype: float64"
      ]
     },
     "execution_count": 5,
     "metadata": {},
     "output_type": "execute_result"
    }
   ],
   "source": [
    "dataset.Khan"
   ]
  },
  {
   "cell_type": "code",
   "execution_count": 6,
   "metadata": {},
   "outputs": [
    {
     "data": {
      "text/html": [
       "<div>\n",
       "<style scoped>\n",
       "    .dataframe tbody tr th:only-of-type {\n",
       "        vertical-align: middle;\n",
       "    }\n",
       "\n",
       "    .dataframe tbody tr th {\n",
       "        vertical-align: top;\n",
       "    }\n",
       "\n",
       "    .dataframe thead th {\n",
       "        text-align: right;\n",
       "    }\n",
       "</style>\n",
       "<table border=\"1\" class=\"dataframe\">\n",
       "  <thead>\n",
       "    <tr style=\"text-align: right;\">\n",
       "      <th></th>\n",
       "      <th>order_id</th>\n",
       "      <th>quantity</th>\n",
       "      <th>item_name</th>\n",
       "      <th>choice_description</th>\n",
       "      <th>item_price</th>\n",
       "      <th>Khan</th>\n",
       "    </tr>\n",
       "  </thead>\n",
       "  <tbody>\n",
       "    <tr>\n",
       "      <th>0.0</th>\n",
       "      <td>1.0</td>\n",
       "      <td>1.0</td>\n",
       "      <td>Chips and Fresh Tomato Salsa</td>\n",
       "      <td>NaN</td>\n",
       "      <td>$2.39</td>\n",
       "      <td>NaN</td>\n",
       "    </tr>\n",
       "    <tr>\n",
       "      <th>1.0</th>\n",
       "      <td>1.0</td>\n",
       "      <td>1.0</td>\n",
       "      <td>Izze</td>\n",
       "      <td>[Clementine]</td>\n",
       "      <td>$3.39</td>\n",
       "      <td>73.0</td>\n",
       "    </tr>\n",
       "    <tr>\n",
       "      <th>2.0</th>\n",
       "      <td>1.0</td>\n",
       "      <td>1.0</td>\n",
       "      <td>Nantucket Nectar</td>\n",
       "      <td>[Apple]</td>\n",
       "      <td>$3.39</td>\n",
       "      <td>146.0</td>\n",
       "    </tr>\n",
       "    <tr>\n",
       "      <th>3.0</th>\n",
       "      <td>1.0</td>\n",
       "      <td>1.0</td>\n",
       "      <td>Chips and Tomatillo-Green Chili Salsa</td>\n",
       "      <td>NaN</td>\n",
       "      <td>$2.39</td>\n",
       "      <td>219.0</td>\n",
       "    </tr>\n",
       "    <tr>\n",
       "      <th>4.0</th>\n",
       "      <td>2.0</td>\n",
       "      <td>2.0</td>\n",
       "      <td>Chicken Bowl</td>\n",
       "      <td>[Tomatillo-Red Chili Salsa (Hot), [Black Beans...</td>\n",
       "      <td>$16.98</td>\n",
       "      <td>292.0</td>\n",
       "    </tr>\n",
       "    <tr>\n",
       "      <th>...</th>\n",
       "      <td>...</td>\n",
       "      <td>...</td>\n",
       "      <td>...</td>\n",
       "      <td>...</td>\n",
       "      <td>...</td>\n",
       "      <td>...</td>\n",
       "    </tr>\n",
       "    <tr>\n",
       "      <th>4618.0</th>\n",
       "      <td>1833.0</td>\n",
       "      <td>1.0</td>\n",
       "      <td>Steak Burrito</td>\n",
       "      <td>[Fresh Tomato Salsa, [Rice, Sour Cream, Cheese...</td>\n",
       "      <td>$11.75</td>\n",
       "      <td>337114.0</td>\n",
       "    </tr>\n",
       "    <tr>\n",
       "      <th>4619.0</th>\n",
       "      <td>1834.0</td>\n",
       "      <td>1.0</td>\n",
       "      <td>Chicken Salad Bowl</td>\n",
       "      <td>[Fresh Tomato Salsa, [Fajita Vegetables, Pinto...</td>\n",
       "      <td>$11.25</td>\n",
       "      <td>337187.0</td>\n",
       "    </tr>\n",
       "    <tr>\n",
       "      <th>4620.0</th>\n",
       "      <td>1834.0</td>\n",
       "      <td>1.0</td>\n",
       "      <td>Chicken Salad Bowl</td>\n",
       "      <td>[Fresh Tomato Salsa, [Fajita Vegetables, Lettu...</td>\n",
       "      <td>$8.75</td>\n",
       "      <td>337260.0</td>\n",
       "    </tr>\n",
       "    <tr>\n",
       "      <th>4621.0</th>\n",
       "      <td>1834.0</td>\n",
       "      <td>1.0</td>\n",
       "      <td>Chicken Salad Bowl</td>\n",
       "      <td>[Fresh Tomato Salsa, [Fajita Vegetables, Pinto...</td>\n",
       "      <td>$8.75</td>\n",
       "      <td>337333.0</td>\n",
       "    </tr>\n",
       "    <tr>\n",
       "      <th>4622.0</th>\n",
       "      <td>NaN</td>\n",
       "      <td>NaN</td>\n",
       "      <td>NaN</td>\n",
       "      <td>NaN</td>\n",
       "      <td>NaN</td>\n",
       "      <td>337406.0</td>\n",
       "    </tr>\n",
       "  </tbody>\n",
       "</table>\n",
       "<p>4623 rows × 6 columns</p>\n",
       "</div>"
      ],
      "text/plain": [
       "        order_id  quantity                              item_name  \\\n",
       "0.0          1.0       1.0           Chips and Fresh Tomato Salsa   \n",
       "1.0          1.0       1.0                                   Izze   \n",
       "2.0          1.0       1.0                       Nantucket Nectar   \n",
       "3.0          1.0       1.0  Chips and Tomatillo-Green Chili Salsa   \n",
       "4.0          2.0       2.0                           Chicken Bowl   \n",
       "...          ...       ...                                    ...   \n",
       "4618.0    1833.0       1.0                          Steak Burrito   \n",
       "4619.0    1834.0       1.0                     Chicken Salad Bowl   \n",
       "4620.0    1834.0       1.0                     Chicken Salad Bowl   \n",
       "4621.0    1834.0       1.0                     Chicken Salad Bowl   \n",
       "4622.0       NaN       NaN                                    NaN   \n",
       "\n",
       "                                       choice_description item_price      Khan  \n",
       "0.0                                                   NaN     $2.39        NaN  \n",
       "1.0                                          [Clementine]     $3.39       73.0  \n",
       "2.0                                               [Apple]     $3.39      146.0  \n",
       "3.0                                                   NaN     $2.39      219.0  \n",
       "4.0     [Tomatillo-Red Chili Salsa (Hot), [Black Beans...    $16.98      292.0  \n",
       "...                                                   ...        ...       ...  \n",
       "4618.0  [Fresh Tomato Salsa, [Rice, Sour Cream, Cheese...    $11.75   337114.0  \n",
       "4619.0  [Fresh Tomato Salsa, [Fajita Vegetables, Pinto...    $11.25   337187.0  \n",
       "4620.0  [Fresh Tomato Salsa, [Fajita Vegetables, Lettu...     $8.75   337260.0  \n",
       "4621.0  [Fresh Tomato Salsa, [Fajita Vegetables, Pinto...     $8.75   337333.0  \n",
       "4622.0                                                NaN        NaN  337406.0  \n",
       "\n",
       "[4623 rows x 6 columns]"
      ]
     },
     "execution_count": 6,
     "metadata": {},
     "output_type": "execute_result"
    }
   ],
   "source": [
    "dataset"
   ]
  },
  {
   "cell_type": "code",
   "execution_count": null,
   "metadata": {},
   "outputs": [],
   "source": []
  }
 ],
 "metadata": {
  "kernelspec": {
   "display_name": "Python 3",
   "language": "python",
   "name": "python3"
  },
  "language_info": {
   "codemirror_mode": {
    "name": "ipython",
    "version": 3
   },
   "file_extension": ".py",
   "mimetype": "text/x-python",
   "name": "python",
   "nbconvert_exporter": "python",
   "pygments_lexer": "ipython3",
   "version": "3.7.3"
  }
 },
 "nbformat": 4,
 "nbformat_minor": 2
}
